{
 "cells": [
  {
   "cell_type": "code",
   "execution_count": 1,
   "metadata": {},
   "outputs": [
    {
     "name": "stderr",
     "output_type": "stream",
     "text": [
      "Using TensorFlow backend.\n"
     ]
    }
   ],
   "source": [
    "import pandas as pd\n",
    "import matplotlib.pyplot as plt\n",
    "import numpy as np\n",
    "import keras\n",
    "import math\n",
    "import re\n",
    "\n",
    "from datetime import datetime\n",
    "from Bio import SeqIO, Seq\n",
    "\n",
    "\n",
    "from keras.models import Model\n",
    "from keras.layers import Dense, Input, Lambda, Concatenate, LSTM, MaxPooling2D, Conv2D, Flatten\n",
    "\n",
    "from keras.optimizers import Adam\n",
    "\n",
    "from keras import backend as K\n",
    "\n",
    "import tensorflow as tf"
   ]
  },
  {
   "cell_type": "code",
   "execution_count": 2,
   "metadata": {},
   "outputs": [],
   "source": [
    "from copy import deepcopy\n",
    "from tqdm import tqdm"
   ]
  },
  {
   "cell_type": "markdown",
   "metadata": {},
   "source": [
    "### Data preparation\n"
   ]
  },
  {
   "cell_type": "code",
   "execution_count": 3,
   "metadata": {},
   "outputs": [
    {
     "name": "stderr",
     "output_type": "stream",
     "text": [
      "60it [00:00, 593.16it/s]/homes/ija23/advanced_ml/testenv/lib/python3.5/site-packages/Bio/Seq.py:2859: BiopythonWarning: Partial codon, len(sequence) not a multiple of three. Explicitly trim the sequence or add trailing N before translation. This may become an error in future.\n",
      "  BiopythonWarning,\n",
      "18728it [00:25, 746.99it/s]\n"
     ]
    }
   ],
   "source": [
    "aminoacids = []\n",
    "dates      = []\n",
    "countries  = []\n",
    "for i in tqdm(SeqIO.parse('S_gene_aminoacids.fasta', 'fasta')):\n",
    "    match = re.search(r'\\d{4}-\\d{2}-\\d{2}', i.id)\n",
    "    try:\n",
    "        date = datetime.strptime(match.group(), '%Y-%m-%d').date()\n",
    "        dates.append(date)\n",
    "        aminoacids.append(str(Seq.translate(i.seq)))\n",
    "        countries.append(re.sub(r'\\/.*$','',re.sub(r'^.*?\\/', '', i.id)))\n",
    "    except:\n",
    "        aminoacids.append('0')\n",
    "        dates.append('0')\n",
    "        countries.append('0')\n",
    "    hello = deepcopy(i)\n",
    "        \n",
    "aminoacids = [x for x in aminoacids if x != '0']\n",
    "dates = [x for x in dates if x != '0']\n",
    "countries = [x for x in countries if x != '0']"
   ]
  },
  {
   "cell_type": "markdown",
   "metadata": {},
   "source": [
    "#### Here we find unique 'characters' in the aminoacid chain, so that we can one hot encode them"
   ]
  },
  {
   "cell_type": "code",
   "execution_count": 4,
   "metadata": {},
   "outputs": [],
   "source": [
    "unique_chars = list(set(aminoacids[0]))\n",
    "for i, aminoacid in enumerate(aminoacids[1:]):\n",
    "    new_chars = list(set(aminoacid))\n",
    "    for char in new_chars:\n",
    "        if char in unique_chars:\n",
    "            continue\n",
    "        else:\n",
    "            unique_chars.append(char)"
   ]
  },
  {
   "cell_type": "code",
   "execution_count": 5,
   "metadata": {},
   "outputs": [
    {
     "name": "stdout",
     "output_type": "stream",
     "text": [
      "The number of unique characters in the aminoacid chain is 21\n"
     ]
    }
   ],
   "source": [
    "print('The number of unique characters in the aminoacid chain is {}'.format(len(unique_chars)))"
   ]
  },
  {
   "cell_type": "markdown",
   "metadata": {},
   "source": [
    "This makes sense as we have 20 standard aminoacids + stop sign."
   ]
  },
  {
   "cell_type": "code",
   "execution_count": 6,
   "metadata": {},
   "outputs": [],
   "source": [
    "a = {'aminoacids': aminoacids, 'dates': dates, 'country': countries}\n",
    "df = pd.DataFrame(data=a)\n",
    "df.dates = pd.to_datetime(df.dates)"
   ]
  },
  {
   "cell_type": "code",
   "execution_count": 7,
   "metadata": {},
   "outputs": [
    {
     "name": "stderr",
     "output_type": "stream",
     "text": [
      "/homes/ija23/advanced_ml/testenv/lib/python3.5/site-packages/pandas/plotting/_matplotlib/converter.py:103: FutureWarning: Using an implicitly registered datetime converter for a matplotlib plotting method. The converter was registered by pandas on import. Future versions of pandas will require you to explicitly register matplotlib converters.\n",
      "\n",
      "To register the converters:\n",
      "\t>>> from pandas.plotting import register_matplotlib_converters\n",
      "\t>>> register_matplotlib_converters()\n",
      "  warnings.warn(msg, FutureWarning)\n"
     ]
    },
    {
     "data": {
      "text/plain": [
       "Text(0.5, 1.0, 'Distribution of samples in the data, by date')"
      ]
     },
     "execution_count": 7,
     "metadata": {},
     "output_type": "execute_result"
    },
    {
     "data": {
      "image/png": "[encoded data removed]",
      "text/plain": [
       "<Figure size 432x288 with 1 Axes>"
      ]
     },
     "metadata": {
      "needs_background": "light"
     },
     "output_type": "display_data"
    }
   ],
   "source": [
    "plt.bar(df.groupby(by = 'dates').count().index, df.groupby(by = 'dates').count()['aminoacids'])\n",
    "plt.title('Distribution of samples in the data, by date')"
   ]
  },
  {
   "cell_type": "code",
   "execution_count": 8,
   "metadata": {},
   "outputs": [
    {
     "name": "stdout",
     "output_type": "stream",
     "text": [
      "The number of distinct dates is: 131\n"
     ]
    }
   ],
   "source": [
    "print('The number of distinct dates is: {}'.format(len(df.groupby(by = 'dates').count().index)))"
   ]
  },
  {
   "cell_type": "code",
   "execution_count": 9,
   "metadata": {},
   "outputs": [
    {
     "name": "stdout",
     "output_type": "stream",
     "text": [
      "The number of distinct countries is: 118\n"
     ]
    }
   ],
   "source": [
    "print('The number of distinct countries is: {}'.format(len(df.groupby(by = 'country').count().index)))"
   ]
  },
  {
   "cell_type": "code",
   "execution_count": 10,
   "metadata": {},
   "outputs": [],
   "source": [
    "df['amino_length'] = df.apply(lambda row: len(row.aminoacids), axis = 1)"
   ]
  },
  {
   "cell_type": "code",
   "execution_count": 11,
   "metadata": {},
   "outputs": [],
   "source": [
    "u, c = np.unique(np.array(df['amino_length']), return_counts = True)"
   ]
  },
  {
   "cell_type": "code",
   "execution_count": 12,
   "metadata": {},
   "outputs": [
    {
     "data": {
      "text/plain": [
       "(array([ 111,  113,  207, 1260, 1264, 1265, 1266, 1267, 1269, 1270, 1271,\n",
       "        1272, 1273, 1274, 1275]),\n",
       " array([   12,     2,     1,     1,     1,     1,     1,     1,     1,\n",
       "            4,     1,     2,    21, 18183,     3]))"
      ]
     },
     "execution_count": 12,
     "metadata": {},
     "output_type": "execute_result"
    }
   ],
   "source": [
    "u, c"
   ]
  },
  {
   "cell_type": "markdown",
   "metadata": {},
   "source": [
    "For some reason the bar plot doesnt work on u and c, but anyway we can see that >99% of the aminoacids have length 1274, so in order to make the LSTM model easier to code (non variable feature space) **we only keep aminoacids with length 1274**."
   ]
  },
  {
   "cell_type": "code",
   "execution_count": 13,
   "metadata": {},
   "outputs": [],
   "source": [
    "df = df[df['amino_length'] == 1274]"
   ]
  },
  {
   "cell_type": "markdown",
   "metadata": {},
   "source": [
    "### Now as discussed, we keep all the aminoacids in a given date (instead of taking unique) because we want the fact that some chains are more probable be represented"
   ]
  },
  {
   "cell_type": "code",
   "execution_count": null,
   "metadata": {},
   "outputs": [],
   "source": [
    "# If NOT then run this:\n",
    "\n",
    "df = df.drop_duplicates()"
   ]
  },
  {
   "cell_type": "markdown",
   "metadata": {},
   "source": [
    "### Commitment to architecture: we will treat each element of the aminoacid as a single datapoint. Its features will be a 22 long vector, first 21 items one-hot-encoding which letter it represents, the 22nd number being its position in the aminoacid chain. As we will train the LSTM we will randomly sample batches of these datapoints, bundled together in a time trajectory, with a randomly selected starting date. This will leave us with 18183*1274 = 23 165 142 datapoints so quite a number. We will train only on trajectories WITHIN the same country."
   ]
  },
  {
   "cell_type": "markdown",
   "metadata": {},
   "source": [
    "### Arbitrary division: we train on datapoints before 2020-04-10"
   ]
  },
  {
   "cell_type": "code",
   "execution_count": null,
   "metadata": {},
   "outputs": [],
   "source": [
    "df_train = df[df['dates'] < '2020-04-10']"
   ]
  },
  {
   "cell_type": "code",
   "execution_count": null,
   "metadata": {},
   "outputs": [],
   "source": [
    "print('The number of distinct dates is: {}'.format(len(df_train.groupby(by = 'dates').count().index)))"
   ]
  },
  {
   "cell_type": "markdown",
   "metadata": {},
   "source": [
    "### Another arbitrary decision, we will train the LSTM on trajectories (sequences) of length T, and we will train to predict the (T+1) timestep"
   ]
  },
  {
   "cell_type": "code",
   "execution_count": null,
   "metadata": {},
   "outputs": [],
   "source": [
    "T = 35"
   ]
  },
  {
   "cell_type": "markdown",
   "metadata": {},
   "source": [
    "### Since we want to have sequences of at least T long, we remove countries that have less than T dates"
   ]
  },
  {
   "cell_type": "code",
   "execution_count": null,
   "metadata": {},
   "outputs": [],
   "source": [
    "countries = df_train.groupby('country')['dates'].nunique()\n",
    "train_countries = countries[countries >= T].index.values\n",
    "\n",
    "# Remove all other countries from df and recompute train_df\n",
    "df = df[df['country'].isin(train_countries)]\n",
    "\n",
    "df_train = df[df['dates'] < '2020-04-10']"
   ]
  },
  {
   "cell_type": "code",
   "execution_count": null,
   "metadata": {},
   "outputs": [],
   "source": [
    "print('The number of distinct dates is: {}'.format(len(df_train.groupby(by = 'dates').count().index)))"
   ]
  },
  {
   "cell_type": "code",
   "execution_count": null,
   "metadata": {},
   "outputs": [],
   "source": [
    "print('The number of distinct countries is: {}'.format(len(df_train.groupby(by = 'country').count().index)))"
   ]
  },
  {
   "cell_type": "markdown",
   "metadata": {},
   "source": [
    "### Analysis of possible changes in the amino chains per country"
   ]
  },
  {
   "cell_type": "code",
   "execution_count": null,
   "metadata": {},
   "outputs": [],
   "source": [
    "unique_chains = {country:np.unique(df[df['country'] == country]['aminoacids']) for country in np.unique(df['country'])}"
   ]
  },
  {
   "cell_type": "code",
   "execution_count": null,
   "metadata": {},
   "outputs": [],
   "source": [
    "unique_counts = {country:np.unique(df[df['country'] == country]['aminoacids'], return_counts=True)[1] for country in np.unique(df['country'])}"
   ]
  },
  {
   "cell_type": "code",
   "execution_count": null,
   "metadata": {},
   "outputs": [],
   "source": [
    "df.groupby(['dates', 'country']).count()"
   ]
  },
  {
   "cell_type": "code",
   "execution_count": null,
   "metadata": {},
   "outputs": [],
   "source": [
    "df[df['country'] == 'Belgium'].head(50)"
   ]
  },
  {
   "cell_type": "code",
   "execution_count": null,
   "metadata": {},
   "outputs": [],
   "source": [
    "unique_counts"
   ]
  },
  {
   "cell_type": "code",
   "execution_count": null,
   "metadata": {},
   "outputs": [],
   "source": [
    "for country in unique_chains.keys():\n",
    "    print('In {} there are {} unique chains'.format(country, len(unique_chains[country])))"
   ]
  },
  {
   "cell_type": "markdown",
   "metadata": {},
   "source": [
    "#### Lets now try and see where in the chain these changes happpen (on aggregate)"
   ]
  },
  {
   "cell_type": "code",
   "execution_count": null,
   "metadata": {},
   "outputs": [],
   "source": [
    "all_unique_chains = np.unique(df['aminoacids'])\n",
    "\n",
    "chain_position_unique = {idx:0 for idx in range(len(all_unique_chains[0]))}\n",
    "\n",
    "for idx in range(len(all_unique_chains[0])):\n",
    "    nth_char = [chain[idx] for chain in all_unique_chains]\n",
    "    chain_position_unique[idx] += len(np.unique(nth_char))"
   ]
  },
  {
   "cell_type": "code",
   "execution_count": null,
   "metadata": {},
   "outputs": [],
   "source": [
    "positions_with_no_change = []\n",
    "positions_with_change    = []\n",
    "\n",
    "for idx in chain_position_unique.keys():\n",
    "    if chain_position_unique[idx] > 1:\n",
    "        positions_with_change.append(idx)\n",
    "    else:\n",
    "        positions_with_no_change.append(idx)"
   ]
  },
  {
   "cell_type": "code",
   "execution_count": null,
   "metadata": {},
   "outputs": [],
   "source": [
    "print('Number of positions with no change is {}'.format(len(positions_with_no_change)))\n",
    "print('Number of positions with at least 1 change is {}'.format(len(positions_with_change)))"
   ]
  },
  {
   "cell_type": "markdown",
   "metadata": {},
   "source": [
    "#### It therefore seems logical to only consider the mutations of the positions in the list positions_with_change"
   ]
  },
  {
   "cell_type": "markdown",
   "metadata": {},
   "source": [
    "### Change to architecture: now the features per datapoint will be 22 (as above) + 12, a one-hot representation of which country it is - maybe the virus evolves differently in different countries"
   ]
  },
  {
   "cell_type": "markdown",
   "metadata": {},
   "source": [
    "### Code below makes life easier as we dont want to keep all 20 million datapoints lying in memory"
   ]
  },
  {
   "cell_type": "code",
   "execution_count": null,
   "metadata": {},
   "outputs": [],
   "source": [
    "class DataObject(object):\n",
    "\n",
    "    def __init__(self, df, timesteps, positions, unique_chars):\n",
    "\n",
    "        self.df        = df # pandas dataframe of the form as above\n",
    "        self.timesteps = timesteps # number of timesteps (agreed above to T)\n",
    "        \n",
    "        self.positions = positions # Positions to consider\n",
    "        \n",
    "        self.unique_chars = unique_chars # List of unique characters encountered in the aminoacid\n",
    "        \n",
    "        # Compute stuff we dont want to compute all over again\n",
    "        df = df.sort_values(by='dates')\n",
    "        \n",
    "        # Unique time steps\n",
    "        self.time_list = np.unique(df['dates'])\n",
    "        \n",
    "        # Unique list of countries\n",
    "        self.country_list = np.unique(df['country'])\n",
    "        \n",
    "        # Dictionary of one-hot encodings for country\n",
    "        self.country_dict = {country:np.zeros(len(self.country_list)) for country in self.country_list}\n",
    "        for i,country in enumerate(self.country_list):\n",
    "           self.country_dict[country][i] = 1\n",
    "        \n",
    "        # Dictionary of one-hot encodings for aminoacid\n",
    "        self.amino_dict = {char:np.zeros(len(self.unique_chars)) for char in self.unique_chars}\n",
    "        for i,char in enumerate(self.unique_chars):\n",
    "           self.amino_dict[char][i] = 1\n",
    "\n",
    "    def generate_batch(self, batch_size):\n",
    "        '''\n",
    "        Here we generate a batch of trajectories.\n",
    "        A Batch will be a matrix of size:\n",
    "            (batch_size, timesteps, 22+countries)\n",
    "        \n",
    "            because we agreed on a 22+countries long representation of a amino entry\n",
    "        '''        \n",
    "        # We will put all countries in a batch\n",
    "        dps_per_country = np.floor(batch_size*np.random.dirichlet([10]*len(self.country_list), 1))[0]\n",
    "        err = batch_size - dps_per_country.sum()\n",
    "        dps_per_country[np.argmax(dps_per_country)] += err\n",
    "        \n",
    "        for i, country in enumerate(self.country_list):\n",
    "            temp_df        = df[df['country'] == country]\n",
    "            temp_time_list = np.unique(temp_df['dates'])\n",
    "            \n",
    "            try:\n",
    "                start_date = np.random.choice(temp_time_list[:-(timesteps+1)])\n",
    "            except:\n",
    "                start_date = temp_time_list[0]\n",
    "                \n",
    "            # This list contains one too many timesteps (because of need to fill target)\n",
    "            temp_time_list = temp_time_list[(np.argwhere(temp_time_list == start_date)[0][0]):(np.argwhere(temp_time_list == start_date)[0][0] + (self.timesteps+1))]\n",
    "            \n",
    "            assert len(temp_time_list) == (self.timesteps+1), 'Something went wrong'\n",
    "            \n",
    "            batch_element  = np.zeros((int(dps_per_country[i]), self.timesteps, 22+len(self.country_list)))\n",
    "            target_element = np.zeros((int(dps_per_country[i]), self.timesteps + 1, 21))\n",
    "            \n",
    "            # Now we need to sample positions\n",
    "            positions = np.random.choice(self.positions, int(dps_per_country[i]))\n",
    "            \n",
    "            for i2, date in enumerate(temp_time_list):\n",
    "                \n",
    "                aminoacid = temp_df[temp_df['dates'] == date].sample() # this gives us random row from that date\n",
    "                \n",
    "                # Try to vectorize below loop, shouldnt be too hard\n",
    "                #this_vec = np.append(np.array([self.amino_dict[aminoacid.iloc[0]['aminoacids'][position]] for position in positions]))\n",
    "                \n",
    "                for i3, position in enumerate(positions):\n",
    "                    this_vec = np.append(self.amino_dict[aminoacid.iloc[0]['aminoacids'][position]], np.array([position]))\n",
    "                    this_vec = np.append(this_vec, self.country_dict[country])\n",
    "                    \n",
    "                    if i2 < (len(temp_time_list)-1):\n",
    "                        batch_element[i3,i2,:] = this_vec.astype(int)\n",
    "                \n",
    "                    target_element[i3,i2,:] = this_vec[:21].astype(int)\n",
    "                \n",
    "            if i == 0:\n",
    "                batch  = batch_element\n",
    "                target = target_element\n",
    "            else:\n",
    "                batch  = np.append(batch, batch_element, axis = 0)\n",
    "                target = np.append(target, target_element, axis = 0)\n",
    "            \n",
    "            \n",
    "        return np.array(batch).astype(float), np.array(target)[:,1:,:].astype(float)\n",
    "    \n",
    "class Batch(object):\n",
    "\n",
    "    def __init__(self, data_object, batch_size):\n",
    "\n",
    "        assert isinstance(data_object, DataObject), \"Pass an instance of DataObject to Batch\"\n",
    "        \n",
    "        self.all_data          = data_object\n",
    "        self.batch_size        = batch_size\n",
    "        self.data, self.target = data_object.generate_batch(batch_size)\n",
    "        \n",
    "    def __next__(self):\n",
    "        \n",
    "        self.data, self.target = self.all_data.generate_batch(self.batch_size)\n",
    "        \n",
    "        return self.data, self.target\n",
    "\n",
    "    def __iter__(self):\n",
    "        return self\n"
   ]
  },
  {
   "cell_type": "code",
   "execution_count": null,
   "metadata": {},
   "outputs": [],
   "source": [
    "train_object = DataObject(df_train, T, positions_with_change, unique_chars)"
   ]
  },
  {
   "cell_type": "code",
   "execution_count": null,
   "metadata": {},
   "outputs": [],
   "source": [
    "train_batch = Batch(train_object, 64)"
   ]
  },
  {
   "cell_type": "markdown",
   "metadata": {},
   "source": [
    "# LSTM Model"
   ]
  },
  {
   "cell_type": "markdown",
   "metadata": {},
   "source": [
    "### Im not that good with Tensorflow, so model building will infer shape from a batch we give it, but its not too hard to change it to variable shape"
   ]
  },
  {
   "cell_type": "markdown",
   "metadata": {},
   "source": [
    "### We train on sequences that are 35 long, but trained model architecture will allow longer or shorter sequences (I think)"
   ]
  },
  {
   "cell_type": "code",
   "execution_count": null,
   "metadata": {},
   "outputs": [],
   "source": [
    "def build_3L_model(training_batch, hidden_layer_sizes = [512,256,128]):\n",
    "    '''\n",
    "    Builds a 3-lstm layer model, followed by a Dense classification layer\n",
    "    '''\n",
    "    batch_shape  = training_batch.data.shape\n",
    "    target_shape = training_batch.target.shape\n",
    "    \n",
    "    model_input = Input(batch_shape = \n",
    "                          (batch_shape[0],  # batch_size\n",
    "                           batch_shape[1],  # timesteps\n",
    "                           batch_shape[2]),  # features\n",
    "                          name=\"Input_layer\")\n",
    "    \n",
    "    decoder = LSTM(units = hidden_layer_sizes[0],\n",
    "                   dropout = 0.2, \n",
    "                   name = \"Decoder_lstm_1\",\n",
    "                   return_sequences = True)(model_input)\n",
    "    \n",
    "    decoder = LSTM(units = hidden_layer_sizes[1],\n",
    "                   dropout = 0.2, \n",
    "                   name = \"Decoder_lstm_2\",\n",
    "                   return_sequences = True)(decoder)\n",
    "    \n",
    "    decoder = LSTM(units = hidden_layer_sizes[2],\n",
    "                   dropout = 0.2, \n",
    "                   name = \"Decoder_lstm_3\",\n",
    "                   return_sequences = True)(decoder)\n",
    "    \n",
    "    # Reshape so we can put everything through a last softmax layer\n",
    "    # This is collecting batch + timesteps in one dimension\n",
    "    decoder = Lambda(lambda x: tf.reshape(x, [-1,x.shape[2]]),\n",
    "                    name = \"Reshape_before_dense\")(decoder)\n",
    "    \n",
    "    decoder = Dense(target_shape[-1], activation = 'softmax', \n",
    "                    name = 'Decoder_dense_1')(decoder)\n",
    "    \n",
    "    decoder = Lambda(lambda x: tf.reshape(x, [target_shape[0], target_shape[1], target_shape[2]]),\n",
    "                    name = 'Final_reshape')(decoder)\n",
    "    \n",
    "    model = Model(model_input, decoder)\n",
    "    \n",
    "    return model\n",
    "\n",
    "def my_loss_seq(y_true, y_pred):\n",
    "    y_true = tf.reshape(y_true, [-1, 21])\n",
    "    y_pred = tf.reshape(y_pred, [-1, 21])\n",
    "    \n",
    "    bce = tf.keras.losses.CategoricalCrossentropy()\n",
    "    \n",
    "    return bce(y_true, y_pred)\n",
    "\n",
    "def generate(train_batch):\n",
    "    \"\"\"a generator for batches, so model.fit_generator can be used. \"\"\"\n",
    "    while True:\n",
    "        new_batch, new_target = next(train_batch)\n",
    "        \n",
    "        yield (new_batch, \n",
    "               new_target)"
   ]
  },
  {
   "cell_type": "code",
   "execution_count": null,
   "metadata": {},
   "outputs": [],
   "source": [
    "model = build_3L_model(train_batch)\n",
    "model.compile(loss = my_loss_seq, optimizer = Adam())"
   ]
  },
  {
   "cell_type": "code",
   "execution_count": null,
   "metadata": {},
   "outputs": [],
   "source": [
    "model.summary()"
   ]
  },
  {
   "cell_type": "markdown",
   "metadata": {},
   "source": [
    "# Train"
   ]
  },
  {
   "cell_type": "code",
   "execution_count": null,
   "metadata": {},
   "outputs": [],
   "source": [
    "print(\"TensorFlow version: {}\".format(tf.__version__))\n",
    "print(\"GPU is available: {}\".format(tf.test.is_gpu_available()))"
   ]
  },
  {
   "cell_type": "code",
   "execution_count": null,
   "metadata": {},
   "outputs": [],
   "source": [
    "class LossAndErrorPrintingCallback(keras.callbacks.Callback):\n",
    "    def on_epoch_end(self, epoch, logs=None):\n",
    "        with open('3L_lstm.txt', 'w+') as f:\n",
    "            f.write('\\n The average loss for epoch {} is {:7.2f}'.format(epoch, logs[\"loss\"]))"
   ]
  },
  {
   "cell_type": "code",
   "execution_count": null,
   "metadata": {},
   "outputs": [],
   "source": [
    "checkpoint_path = '3L_lstm.h5'\n",
    "\n",
    "cp_callback = tf.keras.callbacks.ModelCheckpoint(\n",
    "                        filepath=checkpoint_path, \n",
    "                        verbose=1, \n",
    "                        save_weights_only=True,\n",
    "                        save_freq=32*100)\n",
    "\n",
    "lr_callback = tf.keras.callbacks.ReduceLROnPlateau(\n",
    "                monitor='loss', factor=0.5, patience=2, verbose=0, mode='auto',\n",
    "                min_delta=0.0001, cooldown=0, min_lr=0,\n",
    ")\n",
    "\n",
    "# Save the weights using the `checkpoint_path` format\n",
    "model.save_weights(checkpoint_path.format(epoch=0))\n",
    "\n",
    "\n",
    "history = model.fit_generator(\n",
    "                    generate(train_batch),\n",
    "                    steps_per_epoch=512,\n",
    "                    callbacks=[cp_callback, LossAndErrorPrintingCallback(), lr_callback],\n",
    "                    epochs=20)"
   ]
  },
  {
   "cell_type": "code",
   "execution_count": null,
   "metadata": {},
   "outputs": [],
   "source": [
    "history.history"
   ]
  },
  {
   "cell_type": "code",
   "execution_count": null,
   "metadata": {},
   "outputs": [],
   "source": [
    "data, target = next(train_batch)"
   ]
  },
  {
   "cell_type": "code",
   "execution_count": null,
   "metadata": {},
   "outputs": [],
   "source": [
    "preds = model.predict(data, steps = 1)"
   ]
  },
  {
   "cell_type": "code",
   "execution_count": null,
   "metadata": {},
   "outputs": [],
   "source": []
  }
 ],
 "metadata": {
  "kernelspec": {
   "display_name": "testenv",
   "language": "python",
   "name": "testenv"
  },
  "language_info": {
   "codemirror_mode": {
    "name": "ipython",
    "version": 3
   },
   "file_extension": ".py",
   "mimetype": "text/x-python",
   "name": "python",
   "nbconvert_exporter": "python",
   "pygments_lexer": "ipython3",
   "version": "3.5.3"
  }
 },
 "nbformat": 4,
 "nbformat_minor": 2
}
